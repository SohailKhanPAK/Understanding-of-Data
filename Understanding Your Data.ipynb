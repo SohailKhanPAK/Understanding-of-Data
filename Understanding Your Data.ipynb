{
 "cells": [
  {
   "cell_type": "code",
   "execution_count": 1,
   "id": "71c5b235",
   "metadata": {},
   "outputs": [],
   "source": [
    "import pandas as pd"
   ]
  },
  {
   "cell_type": "code",
   "execution_count": 2,
   "id": "998b2619",
   "metadata": {},
   "outputs": [],
   "source": [
    "df = pd.read_csv('train.csv')"
   ]
  },
  {
   "cell_type": "markdown",
   "id": "1b836586",
   "metadata": {},
   "source": [
    "# Asking Basic Questions"
   ]
  },
  {
   "cell_type": "markdown",
   "id": "39a9eefd",
   "metadata": {},
   "source": [
    "## 1. How big is the data?"
   ]
  },
  {
   "cell_type": "markdown",
   "id": "da47d624",
   "metadata": {},
   "source": [
    "## 2. How does the data look like?"
   ]
  },
  {
   "cell_type": "markdown",
   "id": "5ea40835",
   "metadata": {},
   "source": [
    "## 3. What is the data type of cols?"
   ]
  },
  {
   "cell_type": "markdown",
   "id": "17691341",
   "metadata": {},
   "source": [
    "# 4. Are there any missing values?"
   ]
  },
  {
   "cell_type": "markdown",
   "id": "012e0409",
   "metadata": {},
   "source": [
    "## 5. How does the data look mathematically?"
   ]
  },
  {
   "cell_type": "markdown",
   "id": "7a66a170",
   "metadata": {},
   "source": [
    "## 6. Are there duplicate values?"
   ]
  },
  {
   "cell_type": "markdown",
   "id": "6936b200",
   "metadata": {},
   "source": [
    "# 7. How is the correlation between cols?"
   ]
  }
 ],
 "metadata": {
  "kernelspec": {
   "display_name": "Python 3 (ipykernel)",
   "language": "python",
   "name": "python3"
  },
  "language_info": {
   "codemirror_mode": {
    "name": "ipython",
    "version": 3
   },
   "file_extension": ".py",
   "mimetype": "text/x-python",
   "name": "python",
   "nbconvert_exporter": "python",
   "pygments_lexer": "ipython3",
   "version": "3.11.9"
  }
 },
 "nbformat": 4,
 "nbformat_minor": 5
}
